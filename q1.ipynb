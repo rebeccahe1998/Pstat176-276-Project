{
 "cells": [
  {
   "cell_type": "code",
   "execution_count": 1,
   "metadata": {},
   "outputs": [],
   "source": [
    "import numpy as np\n",
    "import math\n",
    "import matplotlib.pyplot as plt\n",
    "import pandas as pd\n",
    "from  numpy.random import binomial as rbinom\n",
    "from numpy.random import normal as rnorm\n",
    "from numpy.random import uniform as runi\n",
    "from numpy.random import gamma as gamma\n",
    "from scipy.stats import norm,binom,t\n",
    "import statistics\n",
    "import itertools"
   ]
  },
  {
   "cell_type": "markdown",
   "metadata": {},
   "source": [
    "In order to price a call option, we must calibrate our stock model. Th parameter volatility $\\sigma$ need to be estimated using observed stock prices"
   ]
  },
  {
   "cell_type": "code",
   "execution_count": 6,
   "metadata": {},
   "outputs": [
    {
     "output_type": "execute_result",
     "data": {
      "text/plain": "0.19749935826975876"
     },
     "metadata": {},
     "execution_count": 6
    }
   ],
   "source": [
    "def stockvol(histoPrice):\n",
    "    \"\"\"\n",
    "    input: array of 1-year daily closded day historical prices\n",
    "    output: stock volatility of next year\n",
    "    \n",
    "    \n",
    "    \"\"\"\n",
    "    n = len(histoPrice)\n",
    "    u = np.zeros(n-1)\n",
    "    for i in range(n-1):\n",
    "        u[i] = math.log(histoPrice[i+1])-math.log(histoPrice[i])\n",
    "    U_mean=np.mean(u)\n",
    "    sampleV=statistics.variance(u)\n",
    "    sigma = math.sqrt(sampleV)/1\n",
    "    return sigma\n",
    "\n",
    "histoPrice = np.array([4,4,5,7,8,7,6])\n",
    "stockvol(histoPrice)"
   ]
  },
  {
   "cell_type": "code",
   "execution_count": 4,
   "metadata": {},
   "outputs": [
    {
     "output_type": "execute_result",
     "data": {
      "text/plain": "7"
     },
     "metadata": {},
     "execution_count": 4
    }
   ],
   "source": [
    "\n"
   ]
  }
 ],
 "metadata": {
  "language_info": {
   "codemirror_mode": {
    "name": "ipython",
    "version": 3
   },
   "file_extension": ".py",
   "mimetype": "text/x-python",
   "name": "python",
   "nbconvert_exporter": "python",
   "pygments_lexer": "ipython3",
   "version": "3.7.3-final"
  },
  "orig_nbformat": 2,
  "kernelspec": {
   "name": "python3",
   "display_name": "Python 3"
  }
 },
 "nbformat": 4,
 "nbformat_minor": 2
}